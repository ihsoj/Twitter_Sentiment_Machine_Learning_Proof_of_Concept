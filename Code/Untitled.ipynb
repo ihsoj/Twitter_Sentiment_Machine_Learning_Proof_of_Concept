{
 "cells": [
  {
   "cell_type": "code",
   "execution_count": 1,
   "metadata": {},
   "outputs": [
    {
     "ename": "NameError",
     "evalue": "name 'ObjectId' is not defined",
     "output_type": "error",
     "traceback": [
      "\u001b[0;31m---------------------------------------------------------------------------\u001b[0m",
      "\u001b[0;31mNameError\u001b[0m                                 Traceback (most recent call last)",
      "\u001b[0;32m<ipython-input-1-1808e6fe9322>\u001b[0m in \u001b[0;36m<module>\u001b[0;34m\u001b[0m\n\u001b[0;32m----> 1\u001b[0;31m \u001b[0mdict\u001b[0m \u001b[0;34m=\u001b[0m \u001b[0;34m{\u001b[0m\u001b[0;34m'_id'\u001b[0m\u001b[0;34m:\u001b[0m \u001b[0mObjectId\u001b[0m\u001b[0;34m(\u001b[0m\u001b[0;34m'5dceb462c7cd8d22761272c7'\u001b[0m\u001b[0;34m)\u001b[0m\u001b[0;34m,\u001b[0m \u001b[0;34m'url1'\u001b[0m\u001b[0;34m:\u001b[0m \u001b[0;34m'I agree, but in the end we will win and save our Country from certain destruction!https://twitter.com/scavino45/status/1196881009490497537\\xa0…'\u001b[0m\u001b[0;34m,\u001b[0m \u001b[0;34m'url2'\u001b[0m\u001b[0;34m:\u001b[0m \u001b[0;34m'Proud to see Oluwaseun @AyodejiOsowobi in this list. She’s an @ObamaFoundation Leader who’s organizing young people in Nigeria to help end sexual violence, and her work embodies what our foundation is all about: passing the baton to the next generation.https://time.com/collection/time-100-next-2019/5718899/oluwaseun-ayodeji-osowobi/\\xa0…'\u001b[0m\u001b[0;34m,\u001b[0m \u001b[0;34m'url3'\u001b[0m\u001b[0;34m:\u001b[0m \u001b[0;34m'My hope for our future is that #BabyYoda will bring us together… @TheMandalorian #DisneyPluspic.twitter.com/NvLOKux96j'\u001b[0m\u001b[0;34m,\u001b[0m \u001b[0;34m'url4'\u001b[0m\u001b[0;34m:\u001b[0m \u001b[0;34m'We’re getting into the holiday spirit over at @OWNTV! For the next three Fridays, we’ll be premiering a new Christmas movie and my hope is that you enjoy them with your family this season. Tune in tonight at 9 PM on @OWNtv for the first one. Happy holidays! #OWNForTheHolidaypic.twitter.com/mq82cwvVtS'\u001b[0m\u001b[0;34m,\u001b[0m \u001b[0;34m'url5'\u001b[0m\u001b[0;34m:\u001b[0m \u001b[0;34m'A woman faces a murder charge in connection with the shooting death of a Navy veteran outside a southwest Atlanta apartment complex earlier this month, authorities announced Tuesday.https://www.ajc.com/news/crime--law/woman-faces-murder-charge-after-navy-veteran-was-shot-during-atlanta-carjacking/CZ56Sj2Faf2rhu7Tzb6unK/?ecmp=intown&utm_medium=social&utm_source=intown_tw\\xa0…'\u001b[0m\u001b[0;34m,\u001b[0m \u001b[0;34m'url6'\u001b[0m\u001b[0;34m:\u001b[0m \u001b[0;34m'National Science Foundation, u should add a W to ur name. Would get way more clicks. Ur welcome.'\u001b[0m\u001b[0;34m,\u001b[0m \u001b[0;34m'url7'\u001b[0m\u001b[0;34m:\u001b[0m \u001b[0;34m'JT first day out is my energy right now !'\u001b[0m\u001b[0;34m,\u001b[0m \u001b[0;34m'url8'\u001b[0m\u001b[0;34m:\u001b[0m \u001b[0;34m'#DualThreatQBpic.twitter.com/2wGAH13TPj'\u001b[0m\u001b[0;34m,\u001b[0m \u001b[0;34m'url9'\u001b[0m\u001b[0;34m:\u001b[0m \u001b[0;34m'Thank you @KanyeWest for visiting Lakewood. The Sunday Service Experience was amazing. We loved having you and The Collective. God bless you and your family!https://twitter.com/lakewoodchurch/status/1196184633345552385\\xa0…'\u001b[0m\u001b[0;34m}\u001b[0m\u001b[0;34m\u001b[0m\u001b[0;34m\u001b[0m\u001b[0m\n\u001b[0m",
      "\u001b[0;31mNameError\u001b[0m: name 'ObjectId' is not defined"
     ]
    }
   ],
   "source": [
    "dict = {'_id': ObjectId('5dceb462c7cd8d22761272c7'), 'url1': 'I agree, but in the end we will win and save our Country from certain destruction!https://twitter.com/scavino45/status/1196881009490497537\\xa0…', 'url2': 'Proud to see Oluwaseun @AyodejiOsowobi in this list. She’s an @ObamaFoundation Leader who’s organizing young people in Nigeria to help end sexual violence, and her work embodies what our foundation is all about: passing the baton to the next generation.https://time.com/collection/time-100-next-2019/5718899/oluwaseun-ayodeji-osowobi/\\xa0…', 'url3': 'My hope for our future is that #BabyYoda will bring us together… @TheMandalorian #DisneyPluspic.twitter.com/NvLOKux96j', 'url4': 'We’re getting into the holiday spirit over at @OWNTV! For the next three Fridays, we’ll be premiering a new Christmas movie and my hope is that you enjoy them with your family this season. Tune in tonight at 9 PM on @OWNtv for the first one. Happy holidays! #OWNForTheHolidaypic.twitter.com/mq82cwvVtS', 'url5': 'A woman faces a murder charge in connection with the shooting death of a Navy veteran outside a southwest Atlanta apartment complex earlier this month, authorities announced Tuesday.https://www.ajc.com/news/crime--law/woman-faces-murder-charge-after-navy-veteran-was-shot-during-atlanta-carjacking/CZ56Sj2Faf2rhu7Tzb6unK/?ecmp=intown&utm_medium=social&utm_source=intown_tw\\xa0…', 'url6': 'National Science Foundation, u should add a W to ur name. Would get way more clicks. Ur welcome.', 'url7': 'JT first day out is my energy right now !', 'url8': '#DualThreatQBpic.twitter.com/2wGAH13TPj', 'url9': 'Thank you @KanyeWest for visiting Lakewood. The Sunday Service Experience was amazing. We loved having you and The Collective. God bless you and your family!https://twitter.com/lakewoodchurch/status/1196184633345552385\\xa0…'}"
   ]
  },
  {
   "cell_type": "code",
   "execution_count": null,
   "metadata": {},
   "outputs": [],
   "source": []
  }
 ],
 "metadata": {
  "kernelspec": {
   "display_name": "Python 3",
   "language": "python",
   "name": "python3"
  },
  "language_info": {
   "codemirror_mode": {
    "name": "ipython",
    "version": 3
   },
   "file_extension": ".py",
   "mimetype": "text/x-python",
   "name": "python",
   "nbconvert_exporter": "python",
   "pygments_lexer": "ipython3",
   "version": "3.6.8"
  }
 },
 "nbformat": 4,
 "nbformat_minor": 2
}
