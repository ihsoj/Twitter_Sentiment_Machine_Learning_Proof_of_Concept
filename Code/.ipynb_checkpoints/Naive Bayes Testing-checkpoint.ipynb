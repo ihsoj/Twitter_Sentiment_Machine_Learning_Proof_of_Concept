{
 "cells": [
  {
   "cell_type": "code",
   "execution_count": 25,
   "metadata": {},
   "outputs": [],
   "source": [
    "import nltk\n",
    "from nltk.corpus import stopwords\n",
    "from sklearn.feature_extraction.text import TfidfVectorizer\n",
    "from sklearn.model_selection import GridSearchCV\n",
    "from sklearn.model_selection import train_test_split\n",
    "import pandas as pd\n",
    "import numpy as np"
   ]
  },
  {
   "cell_type": "code",
   "execution_count": 67,
   "metadata": {},
   "outputs": [],
   "source": [
    "# Input data\n",
    "df = pd.read_csv('Output/tweets1.csv')"
   ]
  },
  {
   "cell_type": "code",
   "execution_count": 68,
   "metadata": {},
   "outputs": [],
   "source": [
    "# Drop Null values from data frame\n",
    "df = df.dropna(subset=['Tokenized'])"
   ]
  },
  {
   "cell_type": "code",
   "execution_count": 69,
   "metadata": {},
   "outputs": [],
   "source": [
    "# Create tfidf scores and fit the data to the transformer\n",
    "\n",
    "from sklearn.feature_extraction.text import TfidfVectorizer  \n",
    "tfidfconverter = TfidfVectorizer(max_features=750, analyzer = 'word')  \n",
    "\n",
    "tf_transformer = tfidfconverter.fit(df['Tokenized'])\n",
    "X = tfidfconverter.fit_transform(df['Tokenized'])\n",
    "\n",
    "df['tfid'] = X"
   ]
  },
  {
   "cell_type": "code",
   "execution_count": 70,
   "metadata": {},
   "outputs": [],
   "source": [
    "# Test, Train, Split\n",
    "X_train, X_test, y_train, y_test = train_test_split(\n",
    "    X, df['Sentiment'], random_state=1)"
   ]
  },
  {
   "cell_type": "code",
   "execution_count": 15,
   "metadata": {},
   "outputs": [],
   "source": [
    "# Fit the tfidf data to a Gaussian Naive Bayes model\n",
    "\n",
    "from sklearn.naive_bayes import GaussianNB\n",
    "gnb = GaussianNB()\n",
    "model = gnb.fit(X_train.toarray(), y_train)\n",
    "y_pred = model.predict(X_test.toarray())\n"
   ]
  },
  {
   "cell_type": "code",
   "execution_count": 16,
   "metadata": {},
   "outputs": [
    {
     "name": "stdout",
     "output_type": "stream",
     "text": [
      "[[6433 3944]\n",
      " [3651 9788]]\n",
      "              precision    recall  f1-score   support\n",
      "\n",
      "           0       0.64      0.62      0.63     10377\n",
      "           1       0.71      0.73      0.72     13439\n",
      "\n",
      "   micro avg       0.68      0.68      0.68     23816\n",
      "   macro avg       0.68      0.67      0.67     23816\n",
      "weighted avg       0.68      0.68      0.68     23816\n",
      "\n",
      "0.6810967416862613\n"
     ]
    }
   ],
   "source": [
    "# Output results of model\n",
    "\n",
    "from sklearn.metrics import classification_report, confusion_matrix, accuracy_score\n",
    "print(confusion_matrix(y_test, y_pred))\n",
    "print(classification_report(y_test, y_pred))\n",
    "print(accuracy_score(y_test, y_pred))"
   ]
  },
  {
   "cell_type": "code",
   "execution_count": 35,
   "metadata": {},
   "outputs": [],
   "source": [
    "# Save the model and prepare the tfidf vocabulary for the \"new\" tweets that will be scraped\n",
    "\n",
    "from sklearn.feature_extraction.text import TfidfVectorizer\n",
    "import pickle\n",
    "\n",
    "# Dump the file\n",
    "pickle.dump(tf_transformer, open(\"tfidf1.pkl\", \"wb\"))\n",
    "\n",
    "# Testing phase\n",
    "tf1 = pickle.load(open(\"tfidf1.pkl\", 'rb'))\n",
    "\n",
    "# Create new tfidfVectorizer with old vocabulary for new tweets that weill be scraped\n",
    "tf1_new = TfidfVectorizer(analyzer='word', ngram_range=(1,2), stop_words = \"english\", lowercase = True,\n",
    "                          max_features = 500000, vocabulary = tf1.vocabulary_)\n",
    "\n",
    "# Input fully cleansed tweets into the following \"fit_transform\" function to get appropriate tfidf score\n",
    "X_tf1 = tf1_new.fit_transform('new tweet data will go here')\n",
    "print(X_tf1)\n",
    "\n",
    "# Predict sentiment of new tweets\n",
    "model.predict(X_tf1)"
   ]
  }
 ],
 "metadata": {
  "kernelspec": {
   "display_name": "Python 36 (PythonData)",
   "language": "python",
   "name": "pythondata"
  },
  "language_info": {
   "codemirror_mode": {
    "name": "ipython",
    "version": 3
   },
   "file_extension": ".py",
   "mimetype": "text/x-python",
   "name": "python",
   "nbconvert_exporter": "python",
   "pygments_lexer": "ipython3",
   "version": "3.6.8"
  }
 },
 "nbformat": 4,
 "nbformat_minor": 2
}
