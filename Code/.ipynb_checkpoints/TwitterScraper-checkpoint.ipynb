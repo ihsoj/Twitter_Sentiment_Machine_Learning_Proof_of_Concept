{
 "cells": [
  {
   "cell_type": "markdown",
   "metadata": {},
   "source": [
    "### Tweet Scraper"
   ]
  },
  {
   "cell_type": "code",
   "execution_count": 8,
   "metadata": {},
   "outputs": [],
   "source": [
    "from splinter import Browser\n",
    "from bs4 import BeautifulSoup\n",
    "import time\n",
    "from flask import Flask, render_template, redirect\n",
    "from flask_pymongo import PyMongo"
   ]
  },
  {
   "cell_type": "code",
   "execution_count": 9,
   "metadata": {},
   "outputs": [],
   "source": [
    "# Set static URL's\n",
    "url1 = \"https://twitter.com/realDonaldTrump?ref_src=twsrc%5Egoogle%7Ctwcamp%5Eserp%7Ctwgr%5Eauthor\"\n",
    "url2 = 'https://twitter.com/BarackObama?ref_src=twsrc%5Egoogle%7Ctwcamp%5Eserp%7Ctwgr%5Eauthor'\n",
    "url3 = 'https://twitter.com/jimmykimmel?ref_src=twsrc%5Egoogle%7Ctwcamp%5Eserp%7Ctwgr%5Eauthor'\n",
    "url4 = 'https://twitter.com/Oprah?ref_src=twsrc%5Egoogle%7Ctwcamp%5Eserp%7Ctwgr%5Eauthor'\n",
    "url5 = 'https://twitter.com/atlnewsnow?lang=en'\n",
    "url6 = 'https://twitter.com/elonmusk?ref_src=twsrc%5Egoogle%7Ctwcamp%5Eserp%7Ctwgr%5Eauthor'\n",
    "url7 = 'https://twitter.com/iamcardib?ref_src=twsrc%5Egoogle%7Ctwcamp%5Eserp%7Ctwgr%5Eauthor'\n",
    "url8 = 'https://twitter.com/m_ryan02?lang=en'\n",
    "url9 = 'https://twitter.com/KimKardashian?ref_src=twsrc%5Egoogle%7Ctwcamp%5Eserp%7Ctwgr%5Eauthor'\n",
    "\n",
    "url_list = [url1, url2, url3, url4, url5, url6, url7, url8, url9]"
   ]
  },
  {
   "cell_type": "code",
   "execution_count": 10,
   "metadata": {},
   "outputs": [],
   "source": [
    "# Create empty dictionary to store tweets\n",
    "tweets = {}\n",
    "\n",
    "# Create counter to dynamically add keys\n",
    "key_counter = 1"
   ]
  },
  {
   "cell_type": "code",
   "execution_count": 11,
   "metadata": {},
   "outputs": [],
   "source": [
    "executable_path = {'executable_path': 'chromedriver.exe'}\n",
    "browser = Browser('chrome', **executable_path, headless=False)"
   ]
  },
  {
   "cell_type": "code",
   "execution_count": 12,
   "metadata": {},
   "outputs": [],
   "source": [
    "# browser = init_browser()\n",
    "for url in url_list:\n",
    "    browser.visit(url)\n",
    "\n",
    "    html = browser.html\n",
    "    soup = BeautifulSoup(html, \"html.parser\")\n",
    "    \n",
    "    tweet = soup.find('div',class_= 'stream-container').find('div', class_='stream').find('li', class_='js-stream-item stream-item stream-item').find('div', class_= 'content').find('div', class_= 'js-tweet-text-container').find('p').get_text()\n",
    "    time.sleep(1.5)\n",
    "    tweets['url'+str(key_counter)] = tweet\n",
    "    key_counter = key_counter + 1"
   ]
  },
  {
   "cell_type": "code",
   "execution_count": 13,
   "metadata": {},
   "outputs": [
    {
     "name": "stdout",
     "output_type": "stream",
     "text": [
      "{'url1': '\"Tax Reform Has Delivered for Workers\", write Gary Cohn and Kevin Hassett in the @WSJhttps://www.wsj.com/articles/tax-reform-has-delivered-for-workers-11577045463\\xa0…', 'url2': '2019 was full of moments that show humanity at its best—compassionate, entrepreneurial, determined. And yes, hopeful. Take a look to see for yourself.https://twitter.com/obamafoundation/status/1207681124748681216\\xa0…', 'url3': \"I'm sure this is just a wild coincidence, right @realDonaldTrump ?https://www.cnn.com/2019/12/21/politics/emails-ukraine-aid-timeline/index.html\\xa0…\", 'url4': 'Congratulations Miss South Africa, the new Miss Universe @zozitunzi! Agree with you...leadership is the most powerful thing we should be teaching young women today. We welcome your visit to #OWLAG, our Leadership Academy for Girls https://twitter.com/MissUniverse/status/1203866840549773314\\xa0…', 'url5': \"Atlanta’s trash pickup schedule will be pushed back for the Christmas and New Year's holidays, the city announced.https://www.ajc.com/news/local/atlanta-trash-pickup-schedule-shifts-for-christmas-new-year-holidays/RXRhUcWuTdMRP2tS9Ar6ZJ/?ecmp=intown&utm_medium=social&utm_source=intown_tw\\xa0…\", 'url6': 'Whoa … the stock is so high lol', 'url7': 'Peek-a-boopic.twitter.com/W8kgKCnZCO', 'url8': 'I want to congratulate @arik_gilbert, the 2019-2020 @Gatorade National Football Player of the Year! His hard work and dedication shine on the field, keep working! #GatoradePOY #GatoradePartnerpic.twitter.com/ovBAQKRnmk', 'url9': 'Happy Holidays Fromm and everyone at the Kim Kardashian Hollywood game!  @KKHOfficial http://smarturl.it/PlayKKHGame\\xa0pic.twitter.com/OsrU3biz3y'}\n"
     ]
    }
   ],
   "source": [
    "print(tweets)"
   ]
  },
  {
   "cell_type": "code",
   "execution_count": 14,
   "metadata": {},
   "outputs": [],
   "source": [
    "from flask import Flask, render_template, redirect\n",
    "from flask_pymongo import PyMongo\n",
    "import scrape_twitter\n",
    "\n",
    "app = Flask(__name__)\n",
    "\n",
    "# Use flask_pymongo to set up mongo connection\n",
    "app.config[\"MONGO_URI\"] = \"mongodb://localhost:27017/twitter_app\"\n",
    "mongo = PyMongo(app)\n",
    "\n",
    "@app.route('/')\n",
    "def index():\n",
    "    twitter_info = mongo.db.twitter_info.find_one()\n",
    "    return render_template('index.html', mars_info = mars_info, table = mars_info['df_html'])\n"
   ]
  }
 ],
 "metadata": {
  "kernelspec": {
   "display_name": "Python 36 (PythonData)",
   "language": "python",
   "name": "pythondata"
  },
  "language_info": {
   "codemirror_mode": {
    "name": "ipython",
    "version": 3
   },
   "file_extension": ".py",
   "mimetype": "text/x-python",
   "name": "python",
   "nbconvert_exporter": "python",
   "pygments_lexer": "ipython3",
   "version": "3.6.8"
  }
 },
 "nbformat": 4,
 "nbformat_minor": 2
}
