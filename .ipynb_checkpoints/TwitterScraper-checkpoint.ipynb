{
 "cells": [
  {
   "cell_type": "code",
   "execution_count": 28,
   "metadata": {},
   "outputs": [],
   "source": [
    "### Tweet Scraping BABAIAIIIII"
   ]
  },
  {
   "cell_type": "code",
   "execution_count": 29,
   "metadata": {},
   "outputs": [],
   "source": [
    "from splinter import Browser\n",
    "from bs4 import BeautifulSoup\n",
    "import time"
   ]
  },
  {
   "cell_type": "code",
   "execution_count": 30,
   "metadata": {},
   "outputs": [],
   "source": [
    "# Set static URL's\n",
    "url1 = \"https://twitter.com/realDonaldTrump?ref_src=twsrc%5Egoogle%7Ctwcamp%5Eserp%7Ctwgr%5Eauthor\"\n",
    "url2 = 'https://twitter.com/BarackObama?ref_src=twsrc%5Egoogle%7Ctwcamp%5Eserp%7Ctwgr%5Eauthor'\n",
    "url3 = 'https://twitter.com/jimmykimmel?ref_src=twsrc%5Egoogle%7Ctwcamp%5Eserp%7Ctwgr%5Eauthor'\n",
    "url4 = 'https://twitter.com/Oprah?ref_src=twsrc%5Egoogle%7Ctwcamp%5Eserp%7Ctwgr%5Eauthor'\n",
    "url5 = 'https://twitter.com/atlnewsnow?lang=en'\n",
    "url6 = 'https://twitter.com/elonmusk?ref_src=twsrc%5Egoogle%7Ctwcamp%5Eserp%7Ctwgr%5Eauthor'\n",
    "url7 = 'https://twitter.com/iamcardib?ref_src=twsrc%5Egoogle%7Ctwcamp%5Eserp%7Ctwgr%5Eauthor'\n",
    "url8 = 'https://twitter.com/m_ryan02?lang=en'\n",
    "url9 = 'https://twitter.com/KimKardashian?ref_src=twsrc%5Egoogle%7Ctwcamp%5Eserp%7Ctwgr%5Eauthor'\n",
    "\n",
    "url_list = [url1, url2, url3, url4, url5, url6, url7, url8, url9]"
   ]
  },
  {
   "cell_type": "code",
   "execution_count": 31,
   "metadata": {},
   "outputs": [],
   "source": [
    "# Create empty dictionary to store tweets\n",
    "tweets = {}\n",
    "\n",
    "# Create counter to dynamically add keys\n",
    "key_counter = 1"
   ]
  },
  {
   "cell_type": "code",
   "execution_count": 32,
   "metadata": {},
   "outputs": [],
   "source": [
    "executable_path = {\"executable_path\": \"/usr/local/bin/chromedriver\"}\n",
    "browser = Browser(\"chrome\", **executable_path, headless=False)"
   ]
  },
  {
   "cell_type": "code",
   "execution_count": 33,
   "metadata": {},
   "outputs": [],
   "source": [
    "# browser = init_browser()\n",
    "for url in url_list:\n",
    "    browser.visit(url)\n",
    "\n",
    "    html = browser.html\n",
    "    soup = BeautifulSoup(html, \"html.parser\")\n",
    "    \n",
    "    tweet = soup.find('div',class_= 'stream-container').find('div', class_='stream').find('li', class_='js-stream-item stream-item stream-item').find('div', class_= 'content').find('div', class_= 'js-tweet-text-container').find('p').get_text()\n",
    "    time.sleep(1.5)\n",
    "    tweets['url'+str(key_counter)] = tweet\n",
    "    key_counter = key_counter + 1"
   ]
  },
  {
   "cell_type": "code",
   "execution_count": 34,
   "metadata": {},
   "outputs": [
    {
     "name": "stdout",
     "output_type": "stream",
     "text": [
      "{'url1': 'https://twitter.com/gop/status/1195136845203542016\\xa0…pic.twitter.com/WKwdBxOkSb', 'url2': 'Stories like this are a reminder of our duty, as a country and as Americans, to support every veteran—not only in words, but in deed. To every veteran out there, thank you. We’re forever in your debt.'}\n"
     ]
    }
   ],
   "source": [
    "print(tweets)"
   ]
  },
  {
   "cell_type": "code",
   "execution_count": null,
   "metadata": {},
   "outputs": [],
   "source": []
  }
 ],
 "metadata": {
  "kernelspec": {
   "display_name": "Python 36 (PythonData36)",
   "language": "python",
   "name": "pythondata36"
  },
  "language_info": {
   "codemirror_mode": {
    "name": "ipython",
    "version": 3
   },
   "file_extension": ".py",
   "mimetype": "text/x-python",
   "name": "python",
   "nbconvert_exporter": "python",
   "pygments_lexer": "ipython3",
   "version": "3.6.8"
  }
 },
 "nbformat": 4,
 "nbformat_minor": 2
}
